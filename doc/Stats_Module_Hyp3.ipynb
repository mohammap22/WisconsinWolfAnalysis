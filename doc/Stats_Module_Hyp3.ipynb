{
 "cells": [
  {
   "cell_type": "markdown",
   "id": "76d0405c",
   "metadata": {},
   "source": [
    "## Statistical Analysis and Results"
   ]
  },
  {
   "cell_type": "markdown",
   "id": "ee357043",
   "metadata": {},
   "source": [
    "### Question 3: How have the lives and deaths of wolves changed over the reporting period?"
   ]
  },
  {
   "cell_type": "markdown",
   "id": "b2b39ac4",
   "metadata": {},
   "source": [
    "#### Background and Context:\n",
    "Our team identified this question as a supplemental one to be addressed as time allowed, and it is quite broad. However, we were able to identify some data on the health of the wolf population between 2017 and 2022 from Wisconsin. The data comes from an annual gray wolf monitoring report published by the Wisconsin Department of Natural Resources (DNR) [1]. It contains data on the body condition and detection of ectoparasites (mange and ticks) in captured wolves and mortalities. Below is the data after preprocessing."
   ]
  },
  {
   "cell_type": "code",
   "execution_count": 1,
   "id": "2aa24c3a",
   "metadata": {
    "scrolled": true
   },
   "outputs": [
    {
     "data": {
      "text/html": [
       "<div>\n",
       "<style scoped>\n",
       "    .dataframe tbody tr th:only-of-type {\n",
       "        vertical-align: middle;\n",
       "    }\n",
       "\n",
       "    .dataframe tbody tr th {\n",
       "        vertical-align: top;\n",
       "    }\n",
       "\n",
       "    .dataframe thead th {\n",
       "        text-align: right;\n",
       "    }\n",
       "</style>\n",
       "<table border=\"1\" class=\"dataframe\">\n",
       "  <thead>\n",
       "    <tr style=\"text-align: right;\">\n",
       "      <th></th>\n",
       "      <th>Unnamed: 0</th>\n",
       "      <th>research captures</th>\n",
       "      <th>good body condition</th>\n",
       "      <th>fair body condition</th>\n",
       "      <th>poor body condition</th>\n",
       "      <th>with mange</th>\n",
       "      <th>with ticks</th>\n",
       "    </tr>\n",
       "  </thead>\n",
       "  <tbody>\n",
       "    <tr>\n",
       "      <th>0</th>\n",
       "      <td>2017</td>\n",
       "      <td>33</td>\n",
       "      <td>29</td>\n",
       "      <td>2</td>\n",
       "      <td>2</td>\n",
       "      <td>1</td>\n",
       "      <td>19</td>\n",
       "    </tr>\n",
       "    <tr>\n",
       "      <th>1</th>\n",
       "      <td>2018</td>\n",
       "      <td>36</td>\n",
       "      <td>32</td>\n",
       "      <td>3</td>\n",
       "      <td>1</td>\n",
       "      <td>0</td>\n",
       "      <td>24</td>\n",
       "    </tr>\n",
       "    <tr>\n",
       "      <th>2</th>\n",
       "      <td>2019</td>\n",
       "      <td>40</td>\n",
       "      <td>33</td>\n",
       "      <td>4</td>\n",
       "      <td>3</td>\n",
       "      <td>0</td>\n",
       "      <td>23</td>\n",
       "    </tr>\n",
       "    <tr>\n",
       "      <th>3</th>\n",
       "      <td>2020</td>\n",
       "      <td>25</td>\n",
       "      <td>22</td>\n",
       "      <td>0</td>\n",
       "      <td>3</td>\n",
       "      <td>0</td>\n",
       "      <td>18</td>\n",
       "    </tr>\n",
       "    <tr>\n",
       "      <th>4</th>\n",
       "      <td>2021</td>\n",
       "      <td>18</td>\n",
       "      <td>18</td>\n",
       "      <td>0</td>\n",
       "      <td>0</td>\n",
       "      <td>0</td>\n",
       "      <td>13</td>\n",
       "    </tr>\n",
       "    <tr>\n",
       "      <th>5</th>\n",
       "      <td>2022</td>\n",
       "      <td>14</td>\n",
       "      <td>12</td>\n",
       "      <td>2</td>\n",
       "      <td>0</td>\n",
       "      <td>1</td>\n",
       "      <td>9</td>\n",
       "    </tr>\n",
       "  </tbody>\n",
       "</table>\n",
       "</div>"
      ],
      "text/plain": [
       "   Unnamed: 0  research captures  good body condition  fair body condition  \\\n",
       "0        2017                 33                   29                    2   \n",
       "1        2018                 36                   32                    3   \n",
       "2        2019                 40                   33                    4   \n",
       "3        2020                 25                   22                    0   \n",
       "4        2021                 18                   18                    0   \n",
       "5        2022                 14                   12                    2   \n",
       "\n",
       "   poor body condition  with mange  with ticks  \n",
       "0                    2           1          19  \n",
       "1                    1           0          24  \n",
       "2                    3           0          23  \n",
       "3                    3           0          18  \n",
       "4                    0           0          13  \n",
       "5                    0           1           9  "
      ]
     },
     "execution_count": 1,
     "metadata": {},
     "output_type": "execute_result"
    }
   ],
   "source": [
    "import pandas as pd\n",
    "df = pd.read_csv('../WisconsinWolfAnalysis/pdf/proportion_of_wolves.csv')\n",
    "df.head(6)"
   ]
  },
  {
   "cell_type": "markdown",
   "id": "b190947f",
   "metadata": {},
   "source": [
    "#### Testing for changes in the health of the wolf population"
   ]
  },
  {
   "cell_type": "markdown",
   "id": "7cfe6ff1",
   "metadata": {},
   "source": [
    "Our team reduced the research question above down to measuring the change in the health of the wolf population. Specifically, has the proportion of wolves out of the research captures, possessing characteristic x, changed with statistical significance? Where x is the various characteristics of interest (good, fair, and poor body condition, with mange, and with ticks). \n",
    "\n",
    "To answer these questions, our team wrote several Python functions to perform a series of 2-sample Z tests for proportions. Let p1 and p2 be the proportion of captured wolves exhibiting the characteristic of interest in 2017 and 2022, respectively. Then, for each characteristic of interest, x, we define the null hypothesis as H0: p1 = p2, and the alternative hypothesis as Ha: p1 != p2. We use a significance level of 0.05, where p-values greater than 0.05 lead us to fail to reject the null hypothesis. "
   ]
  },
  {
   "cell_type": "code",
   "execution_count": 2,
   "id": "dbd213f5",
   "metadata": {},
   "outputs": [
    {
     "name": "stdout",
     "output_type": "stream",
     "text": [
      "You are in the correct wolf_env environment.\n"
     ]
    }
   ],
   "source": [
    "#Confirm that we are running the correct environment kernel\n",
    "import os\n",
    "\n",
    "if os.environ['CONDA_DEFAULT_ENV'] == \"wolf_env\":\n",
    "    print(f\"You are in the correct {os.environ['CONDA_DEFAULT_ENV']} environment.\")\n",
    "else:\n",
    "    print(\"Not in correct wolf_env environment. Restart Jupyter Notebooks from wolf_env environment in the terminal.\")"
   ]
  },
  {
   "cell_type": "code",
   "execution_count": 3,
   "id": "4d4cae67",
   "metadata": {},
   "outputs": [
    {
     "name": "stdout",
     "output_type": "stream",
     "text": [
      "\n",
      "----------------Statistical Analysis-------------\n",
      "Hello! Would you like to statistically test the correlation between two variables (1), examine trends over time (2), and/or compare two proportions (3)? \n",
      "Please enter a comma separated list of the desired options.\n",
      "3\n",
      "\n",
      "**You have selected Option 3: Comparing Two Proportions**\n",
      "Please provide the relative file path to a CSV file containing the data you wish to use. Do not encase the file path in quotes or other symbols. \n",
      "Note, the CSV must contain at least 3 columns - the first must be numeric (e.g., a year), the second must be the total number of observations, and the third+ must be the number of observations with a specific characteristic of interest.\n",
      "../WisconsinWolfAnalysis/pdf/proportion_of_wolves.csv\n",
      "\n",
      "PROPORTION HYPOTHESIS TEST (3):\n",
      "\n",
      "The program will perform a 2-sample Z test for proportions at the 0.05 significance level for each provided variable.\n",
      "-------------------------RESULTS-------------------------\n",
      "\n",
      "****\n",
      "VARIABLE: good body condition\n",
      "NULL HYPOTHESIS: proportion in 2017 = proportion in 2022.\n",
      "\n",
      "Result: FAIL TO REJECT null hypothesis that\n",
      "proportion 1 of 0.8787878787878788 = proportion 2 of 0.8571428571428571.\n",
      "Test Statistic: 0.2033575905812044\n",
      "p-value: 0.8388555450008273\n",
      "\n",
      "****\n",
      "VARIABLE: fair body condition\n",
      "NULL HYPOTHESIS: proportion in 2017 = proportion in 2022.\n",
      "\n",
      "Result: FAIL TO REJECT null hypothesis that\n",
      "proportion 1 of 0.06060606060606061 = proportion 2 of 0.14285714285714285.\n",
      "Test Statistic: -0.9241603130977019\n",
      "p-value: 0.3554028551415901\n",
      "\n",
      "****\n",
      "VARIABLE: poor body condition\n",
      "NULL HYPOTHESIS: proportion in 2017 = proportion in 2022.\n",
      "\n",
      "Result: FAIL TO REJECT null hypothesis that\n",
      "proportion 1 of 0.06060606060606061 = proportion 2 of 0.0.\n",
      "Test Statistic: 0.9413794591955396\n",
      "p-value: 0.3465104360909642\n",
      "\n",
      "****\n",
      "VARIABLE: with mange\n",
      "NULL HYPOTHESIS: proportion in 2017 = proportion in 2022.\n",
      "\n",
      "Result: FAIL TO REJECT null hypothesis that\n",
      "proportion 1 of 0.030303030303030304 = proportion 2 of 0.07142857142857142.\n",
      "Test Statistic: -0.638793204454116\n",
      "p-value: 0.5229574696380346\n",
      "\n",
      "****\n",
      "VARIABLE: with ticks\n",
      "NULL HYPOTHESIS: proportion in 2017 = proportion in 2022.\n",
      "\n",
      "Result: FAIL TO REJECT null hypothesis that\n",
      "proportion 1 of 0.5757575757575758 = proportion 2 of 0.6428571428571429.\n",
      "Test Statistic: -0.4286805891206786\n",
      "p-value: 0.6681556885890856\n",
      "\n",
      "------------------------------------------------------------------\n",
      "\n",
      "\n"
     ]
    },
    {
     "data": {
      "image/png": "[encoded data removed]",
      "text/plain": [
       "<Figure size 640x480 with 1 Axes>"
      ]
     },
     "metadata": {},
     "output_type": "display_data"
    }
   ],
   "source": [
    "import sys\n",
    "\n",
    "#Setting path to code location\n",
    "sys.path.append('../WisconsinWolfAnalysis/')\n",
    "\n",
    "from stats.stats_wrapper import wrapper\n",
    "\n",
    "wrapper()\n",
    "\n",
    "#path to wolf and deer population data: ../WisconsinWolfAnalysis/pdf/proportion_of_wolves.csv"
   ]
  },
  {
   "cell_type": "markdown",
   "id": "7f6fc4e0",
   "metadata": {},
   "source": [
    "#### Conclusion/Results:\n",
    "By examining the results of the statistical analysis performed by our code above, we note that in all 5 hypothesis tests, we fail to reject the null hypothesis, meaning that based on the collected data, there is not a statistically significant difference between the health of the Wisconsin wolf population in 2017 vs 2022. Additionally, from the Proportion(s) Over Time plot, we see that each of the proportions has increased and decreased over time - with no discernable, consistent trend. \n",
    "\n",
    "Note, since the question answered by this analysis was a supplemental one, we did not examine the validity of the assumptions that undergird the Z-test for proportions (such as independence and large sample size) that may impact the results of our tests. Hence, we have identified this as an area of our project ripe for future work."
   ]
  },
  {
   "cell_type": "markdown",
   "id": "e4f4e92a",
   "metadata": {},
   "source": [
    "## References:\n",
    "[1] https://dnr.wisconsin.gov/topic/WildlifeHabitat/wolf/index.html"
   ]
  }
 ],
 "metadata": {
  "kernelspec": {
   "display_name": "Python 3 (ipykernel)",
   "language": "python",
   "name": "python3"
  },
  "language_info": {
   "codemirror_mode": {
    "name": "ipython",
    "version": 3
   },
   "file_extension": ".py",
   "mimetype": "text/x-python",
   "name": "python",
   "nbconvert_exporter": "python",
   "pygments_lexer": "ipython3",
   "version": "3.9.16"
  }
 },
 "nbformat": 4,
 "nbformat_minor": 5
}
