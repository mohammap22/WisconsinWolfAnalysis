{
 "cells": [
  {
   "cell_type": "markdown",
   "id": "7492cc7e",
   "metadata": {},
   "source": [
    "## Data"
   ]
  },
  {
   "cell_type": "markdown",
   "id": "94ac43e1",
   "metadata": {},
   "source": [
    "The data used to investigate the impacts of the growing wolf population in Wisconsin are all pulled from data available on the Wisconsin Department of Natural Resources (DNR).\n",
    "\n",
    "Data related to wolves and their interactions with people were extracted from annual Wolf Monitoring Reports. This analysis used reports from 2017 to 2022, which can be downloaded from the \"Reports\" tab of the following website:  \n",
    "&nbsp;&nbsp;&nbsp;&nbsp;&nbsp;https://dnr.wisconsin.gov/topic/WildlifeHabitat/wolf/index.html\n",
    "\n",
    "Copies of those Wolf Monitoring Reports are saved in the WisconsinWolfAnalysis/pdf folder. The folder also contains sub-folders for each report showing the raw data extracted from each pdf file. The WisconsinWolfAnalysis/csv folder contains combined files from this extraction with data for a particular parameter across multiple years. Some of the data extracted and combined from these reports include total wolf population, number of cattle killed by deer, number of dogs killed by deer, and verified wolf observations.\n",
    "\n",
    "Data on deer in Wisconsin were also provided by the Wisconsin DNR. Data on historical deer population, deer harvest, and deer seen per hunted hour are available here:  \n",
    "&nbsp;&nbsp;&nbsp;&nbsp;&nbsp;deer population: https://dnr.wi.gov/wideermetrics/DeerStats.aspx?R=2  \n",
    "&nbsp;&nbsp;&nbsp;&nbsp;&nbsp;deer harvest: https://dnr.wi.gov/wideermetrics/DeerStats.aspx  \n",
    "&nbsp;&nbsp;&nbsp;&nbsp;&nbsp;hunter survey: https://dnr.wi.gov/wideermetrics/DeerStats.aspx?R=OBSurvey  \n",
    "\n",
    "Unfortunately, the data in these pages was not available in a easily ingestible format and pdf printouts of those pages could not be parsed by either the camelot or tabula-py pdf extraction packages. For documentation purposes, pdf printouts of those pages have been placed in the WisconsinWolfAnalysis/pdf/PDFs_that_could_not_be_parsed folder. Additionally, hand-entered data from those plots are stored in the WisconsinWolfAnalysis/csv folder.\n",
    "\n",
    "Data on deer chronic wasing disease (CWD) was also considered to investigate if the number of wolves is impacting the \"quality\" of deer in Wisconsin. Yearly data on testing for deer Chronic Wasting Disease (CWD) as downloadable csv files is available from this website:  \n",
    "&nbsp;&nbsp;&nbsp;&nbsp;&nbsp;https://dnr.wi.gov/wmcwd/Summary/Zone\n",
    "\n",
    "The analysis of changes in wolf population and deer CWD included data from 2002 to 2022. Data from 1999-2001 was excluded because it is only available in a combined file. The data from each year used in the analysis have been stored in WisconsinWolfAnalysis/csv/deer_chronic_wasting_disease/, and the summarized data has been combined into one file WisconsinWolfAnalysis/csv/deer_chronic_wasting_disease_by_year.csv."
   ]
  }
 ],
 "metadata": {
  "kernelspec": {
   "display_name": "Python 3 (ipykernel)",
   "language": "python",
   "name": "python3"
  },
  "language_info": {
   "codemirror_mode": {
    "name": "ipython",
    "version": 3
   },
   "file_extension": ".py",
   "mimetype": "text/x-python",
   "name": "python",
   "nbconvert_exporter": "python",
   "pygments_lexer": "ipython3",
   "version": "3.9.16"
  }
 },
 "nbformat": 4,
 "nbformat_minor": 5
}
