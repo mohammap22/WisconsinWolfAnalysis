{
 "cells": [
  {
   "cell_type": "markdown",
   "id": "2e361c1d",
   "metadata": {},
   "source": [
    "## Statistical Analysis and Results"
   ]
  },
  {
   "cell_type": "markdown",
   "id": "91b49161",
   "metadata": {},
   "source": [
    "### Question 1: Has the growth in the Wisconsin Gray Wolf population impacted the Wisconsin deer population?"
   ]
  },
  {
   "cell_type": "markdown",
   "id": "eadc4ee3",
   "metadata": {},
   "source": [
    "To quantify \"impact\" our team will be leveraging the Pearson's Correlation Coefficient. The coefficient ranges between -1 and 1, with values greater than 0 indicating a positive correlation (e.g., as one population grows so does the other) and values less than 0 indicating a negative correlation (e.g., as one population grows the other shrinks). The closer the coefficient is to 1 or -1 the stronger the correlation. To validate that the correlation coefficient is statistically different from zero we will also be reporting its p-value. We have chosen 0.05 as the benchmark for statistical significance. Any p-values less than 0.05 will lead us to reject the null hypothesis of no correlation, while p-values greater than 0.05 will lead to a failure to reject the null hypothesis. As always, it is important to remember that correlation does not necessarily imply causation. \n",
    "\n",
    "To calculate the Pearson's Correlation Coefficient our team will be using a simple linear regression model with wolf population as the independent variable and deer population as the dependent variable. Because the Pearson's Correlation Coefficient is being used as a descriptive metric, we will not validate the assumptions of normality, homoscedacity, and independence here. However, the rejection or failure to reject the linearity of the model is returned by our code.\n",
    "\n",
    "Our team has chosen to break question 1 into two more granular questions based on commonly held assumptions about the interactions of wolves and deer. Specifically, we will be validating if there is a negative correlation between the growth of the wolf population and the deer population and if there is a negative correlation between deer with Chronic Wasting Disease (CWD) and wolf population growth."
   ]
  },
  {
   "cell_type": "markdown",
   "id": "e740e5a4",
   "metadata": {},
   "source": [
    "#### Testing the correlation of the wolf population and deer population"
   ]
  },
  {
   "cell_type": "code",
   "execution_count": null,
   "id": "6bc1b946",
   "metadata": {},
   "outputs": [],
   "source": [
    "from ./"
   ]
  },
  {
   "cell_type": "code",
   "execution_count": null,
   "id": "bff16338",
   "metadata": {},
   "outputs": [],
   "source": []
  },
  {
   "cell_type": "code",
   "execution_count": null,
   "id": "392f86d8",
   "metadata": {},
   "outputs": [],
   "source": []
  },
  {
   "cell_type": "code",
   "execution_count": null,
   "id": "437bdb14",
   "metadata": {},
   "outputs": [],
   "source": []
  },
  {
   "cell_type": "code",
   "execution_count": null,
   "id": "2570f549",
   "metadata": {},
   "outputs": [],
   "source": []
  },
  {
   "cell_type": "code",
   "execution_count": null,
   "id": "0ce755bf",
   "metadata": {},
   "outputs": [],
   "source": []
  },
  {
   "cell_type": "code",
   "execution_count": null,
   "id": "c2aacdef",
   "metadata": {},
   "outputs": [],
   "source": []
  },
  {
   "cell_type": "code",
   "execution_count": null,
   "id": "80c0a6e5",
   "metadata": {},
   "outputs": [],
   "source": []
  },
  {
   "cell_type": "code",
   "execution_count": null,
   "id": "349efd84",
   "metadata": {},
   "outputs": [],
   "source": [
    "# Question 2: Has the growing wolf population led impacted humans?"
   ]
  },
  {
   "cell_type": "code",
   "execution_count": null,
   "id": "c8c279f2",
   "metadata": {},
   "outputs": [],
   "source": [
    " ** How are wolf and human interactions changing via observations, attacks, and law enforcement encounters? (Annual report data for each of the above)\n",
    "        ** Is there a correlation in # of deer seen per hour by hunters and growing wolf populations? (Annual wolf population data and number of deer seen by hunters annually)\n",
    "        ** Is there a correlation between growth in wolf population and # of deer harvested? (Annual wolf population data and annual deer harvesting data)"
   ]
  },
  {
   "cell_type": "code",
   "execution_count": null,
   "id": "f91d2b90",
   "metadata": {},
   "outputs": [],
   "source": []
  }
 ],
 "metadata": {
  "kernelspec": {
   "display_name": "Python 3 (ipykernel)",
   "language": "python",
   "name": "python3"
  },
  "language_info": {
   "codemirror_mode": {
    "name": "ipython",
    "version": 3
   },
   "file_extension": ".py",
   "mimetype": "text/x-python",
   "name": "python",
   "nbconvert_exporter": "python",
   "pygments_lexer": "ipython3",
   "version": "3.9.16"
  }
 },
 "nbformat": 4,
 "nbformat_minor": 5
}
